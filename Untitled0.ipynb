{
  "nbformat": 4,
  "nbformat_minor": 0,
  "metadata": {
    "colab": {
      "provenance": [],
      "toc_visible": true,
      "authorship_tag": "ABX9TyONHG1GBiKuCHbeNBdCUucR",
      "include_colab_link": true
    },
    "kernelspec": {
      "name": "python3",
      "display_name": "Python 3"
    },
    "language_info": {
      "name": "python"
    }
  },
  "cells": [
    {
      "cell_type": "markdown",
      "metadata": {
        "id": "view-in-github",
        "colab_type": "text"
      },
      "source": [
        "<a href=\"https://colab.research.google.com/github/edersoncassimiro/EBAC/blob/main/Untitled0.ipynb\" target=\"_parent\"><img src=\"https://colab.research.google.com/assets/colab-badge.svg\" alt=\"Open In Colab\"/></a>"
      ]
    },
    {
      "cell_type": "code",
      "source": [
        "numero1 = 0.05\n",
        "numero2 = 0.10\n",
        "numero3 = 0.25\n",
        "numero4 = 0.50\n",
        "numero5 = 1.00\n",
        "resultado1 = numero1 * 35\n",
        "resultado2 = numero2 * 50\n",
        "resultado3 = numero3 * 30\n",
        "resultado4 = numero4 * 15\n",
        "resultado5 = numero5 * 19\n",
        "resultado_total = resultado1 + resultado2 + resultado3 + resultado4 + resultado5\n",
        "print(\" O valor total em reais é R$ \", resultado_total)"
      ],
      "metadata": {
        "colab": {
          "base_uri": "https://localhost:8080/"
        },
        "id": "RJ48R15SWwXz",
        "outputId": "008f408f-d197-4132-d37e-48dc87482835"
      },
      "execution_count": 2,
      "outputs": [
        {
          "output_type": "stream",
          "name": "stdout",
          "text": [
            " O valor total em reais é R$  40.75\n"
          ]
        }
      ]
    },
    {
      "cell_type": "code",
      "source": [
        "horas_estimadas = 80\n",
        "valor_inicial = 1000.00\n",
        "valor_hora = 20.45\n",
        "taxa_gordura = 0.15 # 15%\n",
        "\n",
        "valor_total = (valor_inicial + horas_estimadas * valor_hora) * (1 + taxa_gordura)\n",
        "\n",
        "print(f'{valor_total:.2f}')"
      ],
      "metadata": {
        "colab": {
          "base_uri": "https://localhost:8080/"
        },
        "id": "z5ND3HC1XdfQ",
        "outputId": "dd994cea-7bce-43ca-bd61-0f596996511f"
      },
      "execution_count": 3,
      "outputs": [
        {
          "output_type": "stream",
          "name": "stdout",
          "text": [
            "3031.40\n"
          ]
        }
      ]
    }
  ]
}